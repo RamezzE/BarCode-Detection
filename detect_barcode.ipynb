{
 "cells": [
  {
   "cell_type": "code",
   "execution_count": 36,
   "outputs": [],
   "source": [
    "import numpy as np\n",
    "import cv2\n",
    "import os"
   ],
   "metadata": {
    "collapsed": false,
    "ExecuteTime": {
     "end_time": "2023-12-06T10:13:41.899807500Z",
     "start_time": "2023-12-06T10:13:41.858549200Z"
    }
   },
   "id": "a271fcc9e547df84"
  },
  {
   "cell_type": "code",
   "execution_count": 37,
   "id": "initial_id",
   "metadata": {
    "collapsed": true,
    "ExecuteTime": {
     "end_time": "2023-12-06T10:13:41.954110400Z",
     "start_time": "2023-12-06T10:13:41.871899500Z"
    }
   },
   "outputs": [],
   "source": [
    "def rescaleFrame(frame, scale=0.5):\n",
    "    width = int(frame.shape[1] * scale)\n",
    "    height = int(frame.shape[0] * scale)\n",
    "    dimensions = (width, height)\n",
    "    return cv2.resize(frame, dimensions, interpolation=cv2.INTER_AREA)\n",
    "\n",
    "def calculate_brightness(image):\n",
    "    # Convert the image to grayscale\n",
    "    gray = cv2.cvtColor(image, cv2.COLOR_BGR2GRAY)\n",
    "    \n",
    "    # Calculate the mean brightness of the image\n",
    "    brightness = np.mean(gray)\n",
    "\n",
    "    return brightness"
   ]
  },
  {
   "cell_type": "code",
   "execution_count": 38,
   "outputs": [],
   "source": [
    "def find_parallel(lines):\n",
    "    max_parallel_count = 0\n",
    "    best_line_index = -1\n",
    "    best_parallel_indices = []\n",
    "\n",
    "    for i in range(len(lines)):\n",
    "        parallel_indices = []\n",
    "\n",
    "        for j in range(len(lines)):\n",
    "            if i == j:\n",
    "                continue\n",
    "\n",
    "            # Extract line coordinates\n",
    "            x1_i, y1_i, x2_i, y2_i = lines[i][0]\n",
    "            x1_j, y1_j, x2_j, y2_j = lines[j][0]\n",
    "\n",
    "            # Check if the lines are approximately parallel\n",
    "            delta_x_i = x2_i - x1_i\n",
    "            delta_y_i = y2_i - y1_i\n",
    "            delta_x_j = x2_j - x1_j\n",
    "            delta_y_j = y2_j - y1_j\n",
    "\n",
    "            # Avoid division by zero\n",
    "            if delta_x_i == 0 or delta_x_j == 0:\n",
    "                continue\n",
    "\n",
    "            slope_i = delta_y_i / delta_x_i\n",
    "            slope_j = delta_y_j / delta_x_j\n",
    " \n",
    "            if abs(slope_i - slope_j) < 0.05:\n",
    "                parallel_indices.append(j)\n",
    "\n",
    "        if len(parallel_indices) > max_parallel_count:\n",
    "            max_parallel_count = len(parallel_indices)\n",
    "            best_line_index = i\n",
    "            best_parallel_indices = parallel_indices\n",
    "\n",
    "    return best_line_index, best_parallel_indices"
   ],
   "metadata": {
    "collapsed": false,
    "ExecuteTime": {
     "end_time": "2023-12-06T10:13:41.957109700Z",
     "start_time": "2023-12-06T10:13:41.893799300Z"
    }
   },
   "id": "784ae191c6661354"
  },
  {
   "cell_type": "code",
   "execution_count": 39,
   "outputs": [],
   "source": [
    "def detectBarcodes(image, showProcess=False):\n",
    "    gray = cv2.cvtColor(image, cv2.COLOR_BGR2GRAY)\n",
    "\n",
    "    blurred = cv2.medianBlur(gray, 1) \n",
    "\n",
    "    ddepth = cv2.CV_32F\n",
    "    gradX = cv2.Sobel(blurred, ddepth=ddepth, dx=1, dy=0, ksize=-1)\n",
    "    gradY = cv2.Sobel(blurred, ddepth=ddepth, dx=0, dy=1, ksize=-1)\n",
    "    # subtract the y-gradient from the x-gradient\n",
    "    \n",
    "    edgeDetection = cv2.subtract(gradX, gradY)\n",
    "    edgeDetection = cv2.convertScaleAbs(edgeDetection)\n",
    "    \n",
    "    cv2.imshow(\"Edge\", edgeDetection)\n",
    "\n",
    "    kernel = np.ones((3, 3), np.uint8)\n",
    "    \n",
    "    _, thresh = cv2.threshold(edgeDetection, 150, 255, cv2.THRESH_BINARY)\n",
    "    cv2.imshow(\"Thresh\", thresh)\n",
    "    erode = cv2.erode(thresh, None, iterations= 1)\n",
    "    dilate = cv2.dilate(erode, None, iterations= 1)\n",
    "    \n",
    "    cv2.imshow(\"Morphology\", dilate)\n",
    "    \n",
    "    lines = cv2.HoughLinesP(image=erode,rho=1.25,theta=np.pi/180, threshold=100,lines=np.array([]), minLineLength=100, maxLineGap=10)\n",
    "\n",
    "    blank = np.zeros(image.shape, dtype=np.uint8)\n",
    "    \n",
    "    blank_temp = blank.copy()\n",
    "    # a = lines.shape[0]\n",
    "    if lines is None:\n",
    "        cv2.imshow(\"NO LINES\", image)\n",
    "        cv2.waitKey(0)\n",
    "        cv2.destroyAllWindows()\n",
    "        return\n",
    "    \n",
    "    for i in range(len(lines)):\n",
    "        cv2.line(blank_temp, (lines[i][0][0], lines[i][0][1]), (lines[i][0][2], lines[i][0][3]), (0, 0, 255), 3, cv2.LINE_AA)\n",
    "        \n",
    "    cv2.imshow(\"All Lines\", blank_temp)\n",
    "    \n",
    "    copy = image.copy()\n",
    "    \n",
    "    if lines is None or len(lines) < 10:\n",
    "        return False\n",
    "    \n",
    "    best_line_index, best_parallel_indices = find_parallel(lines)\n",
    "\n",
    "    if best_line_index != -1:\n",
    "        best_line = lines[best_line_index][0]\n",
    "        print(f\"Best line with index {best_line_index} has {len(best_parallel_indices)} parallel lines.\")\n",
    "    \n",
    "        # Draw the best line\n",
    "        cv2.line(blank, (best_line[0], best_line[1]), (best_line[2], best_line[3]), (0, 0, 255), 3, cv2.LINE_AA)\n",
    "    \n",
    "        # Draw all parallel lines\n",
    "        for parallel_index in best_parallel_indices:\n",
    "            parallel_line = lines[parallel_index][0]\n",
    "            cv2.line(blank, (parallel_line[0], parallel_line[1]), (parallel_line[2], parallel_line[3]), (0, 0, 255), 3, cv2.LINE_AA)\n",
    "    else:\n",
    "        print(\"No parallel lines found.\")\n",
    "                \n",
    "    if showProcess:\n",
    "        # cv2.imshow(\"Masked Image\", masked_image)\n",
    "        # cv2.imshow(\"Image\", image)\n",
    "        cv2.imshow(\"Lines\", blank)\n",
    "        cv2.waitKey(0)\n",
    "        cv2.destroyAllWindows()\n",
    "\n",
    "    # imageName = image_path.split(os.path.sep)[-1]"
   ],
   "metadata": {
    "collapsed": false,
    "ExecuteTime": {
     "end_time": "2023-12-06T10:13:41.997113800Z",
     "start_time": "2023-12-06T10:13:41.922673800Z"
    }
   },
   "id": "1144f43a13127750"
  },
  {
   "cell_type": "code",
   "execution_count": 40,
   "outputs": [
    {
     "name": "stdout",
     "output_type": "stream",
     "text": [
      "Best line with index 24 has 53 parallel lines.\n",
      "Best line with index 44 has 28 parallel lines.\n",
      "Best line with index 4 has 49 parallel lines.\n",
      "Best line with index 0 has 30 parallel lines.\n",
      "Best line with index 40 has 6 parallel lines.\n",
      "Best line with index 5 has 6 parallel lines.\n",
      "Best line with index 27 has 56 parallel lines.\n",
      "Best line with index 6 has 2 parallel lines.\n",
      "Best line with index 2 has 7 parallel lines.\n",
      "Best line with index 5 has 7 parallel lines.\n",
      "Best line with index 16 has 14 parallel lines.\n",
      "Best line with index 7 has 63 parallel lines.\n"
     ]
    },
    {
     "ename": "KeyboardInterrupt",
     "evalue": "",
     "output_type": "error",
     "traceback": [
      "\u001B[1;31m---------------------------------------------------------------------------\u001B[0m",
      "\u001B[1;31mKeyboardInterrupt\u001B[0m                         Traceback (most recent call last)",
      "Cell \u001B[1;32mIn[40], line 18\u001B[0m\n\u001B[0;32m     15\u001B[0m \u001B[38;5;28;01mif\u001B[39;00m image\u001B[38;5;241m.\u001B[39mshape[\u001B[38;5;241m0\u001B[39m] \u001B[38;5;241m>\u001B[39m \u001B[38;5;241m800\u001B[39m \u001B[38;5;129;01mor\u001B[39;00m image\u001B[38;5;241m.\u001B[39mshape[\u001B[38;5;241m1\u001B[39m] \u001B[38;5;241m>\u001B[39m \u001B[38;5;241m1500\u001B[39m:\n\u001B[0;32m     16\u001B[0m     image \u001B[38;5;241m=\u001B[39m rescaleFrame(image)\n\u001B[1;32m---> 18\u001B[0m \u001B[43mdetectBarcodes\u001B[49m\u001B[43m(\u001B[49m\u001B[43mimage\u001B[49m\u001B[43m,\u001B[49m\u001B[43m \u001B[49m\u001B[38;5;28;43;01mTrue\u001B[39;49;00m\u001B[43m)\u001B[49m\n",
      "Cell \u001B[1;32mIn[39], line 67\u001B[0m, in \u001B[0;36mdetectBarcodes\u001B[1;34m(image, showProcess)\u001B[0m\n\u001B[0;32m     63\u001B[0m \u001B[38;5;28;01mif\u001B[39;00m showProcess:\n\u001B[0;32m     64\u001B[0m     \u001B[38;5;66;03m# cv2.imshow(\"Masked Image\", masked_image)\u001B[39;00m\n\u001B[0;32m     65\u001B[0m     \u001B[38;5;66;03m# cv2.imshow(\"Image\", image)\u001B[39;00m\n\u001B[0;32m     66\u001B[0m     cv2\u001B[38;5;241m.\u001B[39mimshow(\u001B[38;5;124m\"\u001B[39m\u001B[38;5;124mLines\u001B[39m\u001B[38;5;124m\"\u001B[39m, blank)\n\u001B[1;32m---> 67\u001B[0m     \u001B[43mcv2\u001B[49m\u001B[38;5;241;43m.\u001B[39;49m\u001B[43mwaitKey\u001B[49m\u001B[43m(\u001B[49m\u001B[38;5;241;43m0\u001B[39;49m\u001B[43m)\u001B[49m\n\u001B[0;32m     68\u001B[0m     cv2\u001B[38;5;241m.\u001B[39mdestroyAllWindows()\n",
      "\u001B[1;31mKeyboardInterrupt\u001B[0m: "
     ]
    }
   ],
   "source": [
    "folderPath = 'Images\\Dataset'\n",
    "\n",
    "# List all files in the folder\n",
    "files = os.listdir(folderPath)\n",
    "\n",
    "for file in files:\n",
    "    # Check if the file is an image\n",
    "    if file.lower().endswith(('.png', '.jpg', '.jpeg', '.gif', '.bmp')):\n",
    "        # Construct the full path to the image\n",
    "        image_path = os.path.join(folderPath, file)\n",
    "\n",
    "        # Read the image\n",
    "        image = cv2.imread(image_path)\n",
    "\n",
    "        if image.shape[0] > 800 or image.shape[1] > 1500:\n",
    "            image = rescaleFrame(image)\n",
    "\n",
    "        detectBarcodes(image, True)"
   ],
   "metadata": {
    "collapsed": false,
    "ExecuteTime": {
     "end_time": "2023-12-06T10:15:38.900281200Z",
     "start_time": "2023-12-06T10:13:41.939109200Z"
    }
   },
   "id": "ddfa43d0bdd1a969"
  },
  {
   "cell_type": "code",
   "execution_count": null,
   "outputs": [],
   "source": [],
   "metadata": {
    "collapsed": false,
    "ExecuteTime": {
     "start_time": "2023-12-06T10:15:38.885280600Z"
    }
   },
   "id": "7f6fdd2c6a839838"
  }
 ],
 "metadata": {
  "kernelspec": {
   "display_name": "Python 3",
   "language": "python",
   "name": "python3"
  },
  "language_info": {
   "codemirror_mode": {
    "name": "ipython",
    "version": 2
   },
   "file_extension": ".py",
   "mimetype": "text/x-python",
   "name": "python",
   "nbconvert_exporter": "python",
   "pygments_lexer": "ipython2",
   "version": "2.7.6"
  }
 },
 "nbformat": 4,
 "nbformat_minor": 5
}
